{
 "cells": [
  {
   "cell_type": "markdown",
   "metadata": {},
   "source": [
    "# Car Photo Classification\n",
    "\n",
    "Photos obtained from [Edmunds.com API](http://developer.edmunds.com/api-documentation/overview/)."
   ]
  },
  {
   "cell_type": "markdown",
   "metadata": {},
   "source": [
    "The goal of this project is to perform image classification. Can I build an artificial neural net that can correctly label the car in each photo. Considering that the photos vary widely, this may be a difficult problem. However, the images obtained from the Edmunds API are all high quality, which will increase performance of the neural net. If instead we used photos of cars posted for saled on Craigslist, for example, the neural net may take a longer time to train. For now, we will stick to the model shots obtained from Edmunds."
   ]
  },
  {
   "cell_type": "markdown",
   "metadata": {},
   "source": [
    "<img src='FP_data/images/ford_explorer_2015/2014_ford_explorer_4dr-suv_sport_fq_oem_3_300.jpg'>\n",
    "\n",
    "<img src='FP_data/images/toyota_tacoma/2016_toyota_tacoma_crew-cab-pickup_limited_f_oem_1_400.jpg'>\n",
    "\n",
    "<img src='FP_data/images/bmw_3-series/2016_bmw_3-series_sedan_340i_fq_oem_4_1600.jpg'>\n",
    "\n",
    "<img src='FP_data/images/porsche_cayman/2014_porsche_cayman_coupe_s_rq_oem_1_500.jpg'>"
   ]
  },
  {
   "cell_type": "code",
   "execution_count": 1,
   "metadata": {
    "collapsed": false
   },
   "outputs": [],
   "source": [
    "import requests\n",
    "import json\n",
    "from collections import defaultdict, Counter\n",
    "import numpy as np\n",
    "import os\n",
    "from PIL import Image, ImageOps\n",
    "import urllib\n",
    "import re\n",
    "import string\n",
    "from time import sleep"
   ]
  },
  {
   "cell_type": "code",
   "execution_count": 2,
   "metadata": {
    "collapsed": true
   },
   "outputs": [],
   "source": [
    "# use these api keys when using the Media api, for obtaining car photos\n",
    "edmunds_api_key_photos = # insert API key\n",
    "edmunds_api_secret_photos = # insert API secret\n",
    "\n",
    "# use these api keys when using the Vehicles api, for obtaining makes, models, and years\n",
    "edmunds_api_key_complete = # insert API key\n",
    "edmunds_api_secret_complete = # insert API secret"
   ]
  },
  {
   "cell_type": "code",
   "execution_count": 3,
   "metadata": {
    "collapsed": true
   },
   "outputs": [],
   "source": [
    "photos_url = 'https://api.edmunds.com/api/media/v2/photoset?'\n",
    "makes_url = 'https://api.edmunds.com/api/vehicle/v2/makes?'\n",
    "#models_url = 'https://api.edmunds.com/api/vehicle/v2/{0}/models?'.format(make)\n",
    "#years_url = 'http://api.edmunds.com/api/vehicle/v2/{0}/{1}/years?'.format(make, model)"
   ]
  },
  {
   "cell_type": "markdown",
   "metadata": {},
   "source": [
    "__Getting a list of all car makes for 2016:__\n",
    "\n",
    "_(For exploring what makes and models are available and deciding for which to pull pictures)_"
   ]
  },
  {
   "cell_type": "code",
   "execution_count": 7,
   "metadata": {
    "collapsed": false
   },
   "outputs": [],
   "source": [
    "makes_params = {'state': 'new',\n",
    "               'year': '2016',\n",
    "               'view': 'basic',\n",
    "               'fmt': 'json',\n",
    "               'api_key': edmunds_api_key_complete}\n",
    "makes_response = requests.get(makes_url, params=makes_params)\n",
    "assert makes_response.status_code == 200\n",
    "makes_16 = json.loads(makes_response.content) # saving as json/dict Python object"
   ]
  },
  {
   "cell_type": "code",
   "execution_count": 8,
   "metadata": {
    "collapsed": false
   },
   "outputs": [
    {
     "data": {
      "text/plain": [
       "[u'makesCount', u'makes']"
      ]
     },
     "execution_count": 8,
     "metadata": {},
     "output_type": "execute_result"
    }
   ],
   "source": [
    "makes_16.keys()"
   ]
  },
  {
   "cell_type": "code",
   "execution_count": 10,
   "metadata": {
    "collapsed": false
   },
   "outputs": [
    {
     "data": {
      "text/plain": [
       "{u'id': 200002038,\n",
       " u'models': [{u'id': u'Acura_ILX',\n",
       "   u'name': u'ILX',\n",
       "   u'niceName': u'ilx',\n",
       "   u'years': [{u'id': 200713715, u'year': 2016}]},\n",
       "  {u'id': u'Acura_MDX',\n",
       "   u'name': u'MDX',\n",
       "   u'niceName': u'mdx',\n",
       "   u'years': [{u'id': 200726800, u'year': 2016}]},\n",
       "  {u'id': u'Acura_RDX',\n",
       "   u'name': u'RDX',\n",
       "   u'niceName': u'rdx',\n",
       "   u'years': [{u'id': 200727186, u'year': 2016}]},\n",
       "  {u'id': u'Acura_RLX',\n",
       "   u'name': u'RLX',\n",
       "   u'niceName': u'rlx',\n",
       "   u'years': [{u'id': 200729233, u'year': 2016}]},\n",
       "  {u'id': u'Acura_TLX',\n",
       "   u'name': u'TLX',\n",
       "   u'niceName': u'tlx',\n",
       "   u'years': [{u'id': 401583109, u'year': 2016}]}],\n",
       " u'name': u'Acura',\n",
       " u'niceName': u'acura'}"
      ]
     },
     "execution_count": 10,
     "metadata": {},
     "output_type": "execute_result"
    }
   ],
   "source": [
    "makes_16['makes'][0] # an example of the info included about 1 make"
   ]
  },
  {
   "cell_type": "code",
   "execution_count": 11,
   "metadata": {
    "collapsed": false,
    "scrolled": true
   },
   "outputs": [],
   "source": [
    "# Creating a dictionary of {make: [make_id, (Model_Name, model_name), (Model_Name1, model_name2, ...)]}\n",
    "# -- in case we want to more easily select a make and model to pass to the Photos API call\n",
    "all_makes = defaultdict(list)\n",
    "counter = 0\n",
    "for make in makes_16['makes']:\n",
    "    all_makes[(make['niceName'])].append(make['id'])\n",
    "    for model in make['models']:\n",
    "        all_makes[(make['niceName'])].append((model['id'], model['niceName']))\n",
    "        counter += 1"
   ]
  },
  {
   "cell_type": "code",
   "execution_count": 9,
   "metadata": {
    "collapsed": false
   },
   "outputs": [
    {
     "data": {
      "text/plain": [
       "defaultdict(list,\n",
       "            {u'acura': [200002038,\n",
       "              (u'Acura_ILX', u'ilx'),\n",
       "              (u'Acura_MDX', u'mdx'),\n",
       "              (u'Acura_RDX', u'rdx'),\n",
       "              (u'Acura_RLX', u'rlx'),\n",
       "              (u'Acura_TLX', u'tlx')],\n",
       "             u'alfa-romeo': [200464140, (u'Alfa_Romeo_4C', u'4c')],\n",
       "             u'aston-martin': [200001769,\n",
       "              (u'Aston_Martin_DB9_GT', u'db9-gt'),\n",
       "              (u'Aston_Martin_Rapide_S', u'rapide-s'),\n",
       "              (u'Aston_Martin_V12_Vantage_S', u'v12-vantage-s'),\n",
       "              (u'Aston_Martin_V8_Vantage', u'v8-vantage'),\n",
       "              (u'Aston_Martin_Vanquish', u'vanquish')],\n",
       "             u'audi': [200000001,\n",
       "              (u'Audi_A3', u'a3'),\n",
       "              (u'Audi_A3_Sportback_e_tron', u'a3-sportback-e-tron'),\n",
       "              (u'Audi_A4', u'a4'),\n",
       "              (u'Audi_A5', u'a5'),\n",
       "              (u'Audi_A6', u'a6'),\n",
       "              (u'Audi_A7', u'a7'),\n",
       "              (u'Audi_A8', u'a8'),\n",
       "              (u'Audi_Q3', u'q3'),\n",
       "              (u'Audi_Q5', u'q5'),\n",
       "              (u'Audi_RS_7', u'rs-7'),\n",
       "              (u'Audi_S3', u's3'),\n",
       "              (u'Audi_S4', u's4'),\n",
       "              (u'Audi_S5', u's5'),\n",
       "              (u'Audi_S6', u's6'),\n",
       "              (u'Audi_S7', u's7'),\n",
       "              (u'Audi_S8', u's8'),\n",
       "              (u'Audi_SQ5', u'sq5'),\n",
       "              (u'Audi_TT', u'tt'),\n",
       "              (u'Audi_TTS', u'tts'),\n",
       "              (u'Audi_allroad', u'allroad')],\n",
       "             u'bentley': [200005848,\n",
       "              (u'Bentley_Continental_GT', u'continental-gt'),\n",
       "              (u'Bentley_Flying_Spur', u'flying-spur'),\n",
       "              (u'Bentley_Mulsanne', u'mulsanne')],\n",
       "             u'bmw': [200000081,\n",
       "              (u'BMW_2_Series', u'2-series'),\n",
       "              (u'BMW_3_Series', u'3-series'),\n",
       "              (u'BMW_3_Series_Gran_Turismo', u'3-series-gran-turismo'),\n",
       "              (u'BMW_3_Series_eDrive', u'3-series-edrive'),\n",
       "              (u'BMW_4_Series', u'4-series'),\n",
       "              (u'BMW_4_Series_Gran_Coupe', u'4-series-gran-coupe'),\n",
       "              (u'BMW_5_Series', u'5-series'),\n",
       "              (u'BMW_5_Series_Gran_Turismo', u'5-series-gran-turismo'),\n",
       "              (u'BMW_6_Series', u'6-series'),\n",
       "              (u'BMW_6_Series_Gran_Coupe', u'6-series-gran-coupe'),\n",
       "              (u'BMW_7_Series', u'7-series'),\n",
       "              (u'BMW_ALPINA_B6_Gran_Coupe', u'alpina-b6-gran-coupe'),\n",
       "              (u'BMW_ActiveHybrid_5', u'activehybrid-5'),\n",
       "              (u'BMW_M2', u'm2'),\n",
       "              (u'BMW_M3', u'm3'),\n",
       "              (u'BMW_M4', u'm4'),\n",
       "              (u'BMW_M4_GTS', u'm4-gts'),\n",
       "              (u'BMW_M5', u'm5'),\n",
       "              (u'BMW_M6', u'm6'),\n",
       "              (u'BMW_M6_Gran_Coupe', u'm6-gran-coupe'),\n",
       "              (u'BMW_X1', u'x1'),\n",
       "              (u'BMW_X3', u'x3'),\n",
       "              (u'BMW_X4', u'x4'),\n",
       "              (u'BMW_X5', u'x5'),\n",
       "              (u'BMW_X5_M', u'x5-m'),\n",
       "              (u'BMW_X5_eDrive', u'x5-edrive'),\n",
       "              (u'BMW_X6', u'x6'),\n",
       "              (u'BMW_X6_M', u'x6-m'),\n",
       "              (u'BMW_Z4', u'z4'),\n",
       "              (u'BMW_i3', u'i3'),\n",
       "              (u'BMW_i8', u'i8')],\n",
       "             u'buick': [200006659,\n",
       "              (u'Buick_Cascada', u'cascada'),\n",
       "              (u'Buick_Enclave', u'enclave'),\n",
       "              (u'Buick_Encore', u'encore'),\n",
       "              (u'Buick_Envision', u'envision'),\n",
       "              (u'Buick_LaCrosse', u'lacrosse'),\n",
       "              (u'Buick_Regal', u'regal'),\n",
       "              (u'Buick_Verano', u'verano')],\n",
       "             u'cadillac': [200001663,\n",
       "              (u'Cadillac_ATS', u'ats'),\n",
       "              (u'Cadillac_ATS_Coupe', u'ats-coupe'),\n",
       "              (u'Cadillac_ATS_V', u'ats-v'),\n",
       "              (u'Cadillac_CT6', u'ct6'),\n",
       "              (u'Cadillac_CTS', u'cts'),\n",
       "              (u'Cadillac_CTS_V', u'cts-v'),\n",
       "              (u'Cadillac_ELR', u'elr'),\n",
       "              (u'Cadillac_Escalade', u'escalade'),\n",
       "              (u'Cadillac_Escalade_ESV', u'escalade-esv'),\n",
       "              (u'Cadillac_SRX', u'srx'),\n",
       "              (u'Cadillac_XTS', u'xts')],\n",
       "             u'chevrolet': [200000404,\n",
       "              (u'Chevrolet_Camaro', u'camaro'),\n",
       "              (u'Chevrolet_City_Express', u'city-express'),\n",
       "              (u'Chevrolet_Colorado', u'colorado'),\n",
       "              (u'Chevrolet_Corvette', u'corvette'),\n",
       "              (u'Chevrolet_Cruze', u'cruze'),\n",
       "              (u'Chevrolet_Cruze_Limited', u'cruze-limited'),\n",
       "              (u'Chevrolet_Equinox', u'equinox'),\n",
       "              (u'Chevrolet_Express', u'express'),\n",
       "              (u'Chevrolet_Express_Cargo', u'express-cargo'),\n",
       "              (u'Chevrolet_Impala', u'impala'),\n",
       "              (u'Chevrolet_Malibu', u'malibu'),\n",
       "              (u'Chevrolet_Malibu_Limited', u'malibu-limited'),\n",
       "              (u'Chevrolet_SS', u'ss'),\n",
       "              (u'Chevrolet_Silverado_1500', u'silverado-1500'),\n",
       "              (u'Chevrolet_Silverado_2500HD', u'silverado-2500hd'),\n",
       "              (u'Chevrolet_Silverado_3500HD', u'silverado-3500hd'),\n",
       "              (u'Chevrolet_Sonic', u'sonic'),\n",
       "              (u'Chevrolet_Spark', u'spark'),\n",
       "              (u'Chevrolet_Spark_EV', u'spark-ev'),\n",
       "              (u'Chevrolet_Suburban', u'suburban'),\n",
       "              (u'Chevrolet_Tahoe', u'tahoe'),\n",
       "              (u'Chevrolet_Traverse', u'traverse'),\n",
       "              (u'Chevrolet_Trax', u'trax'),\n",
       "              (u'Chevrolet_Volt', u'volt')],\n",
       "             u'chrysler': [200003644,\n",
       "              (u'Chrysler_200', u'200'),\n",
       "              (u'Chrysler_300', u'300'),\n",
       "              (u'Chrysler_Town_and_Country', u'town-and-country')],\n",
       "             u'dodge': [200009788,\n",
       "              (u'Dodge_Challenger', u'challenger'),\n",
       "              (u'Dodge_Charger', u'charger'),\n",
       "              (u'Dodge_Dart', u'dart'),\n",
       "              (u'Dodge_Durango', u'durango'),\n",
       "              (u'Dodge_Grand_Caravan', u'grand-caravan'),\n",
       "              (u'Dodge_Journey', u'journey'),\n",
       "              (u'Dodge_Viper', u'viper')],\n",
       "             u'fiat': [200033022,\n",
       "              (u'FIAT_500', u'500'),\n",
       "              (u'FIAT_500L', u'500l'),\n",
       "              (u'FIAT_500X', u'500x'),\n",
       "              (u'FIAT_500e', u'500e')],\n",
       "             u'ford': [200005143,\n",
       "              (u'Ford_C_Max_Energi', u'c-max-energi'),\n",
       "              (u'Ford_C_Max_Hybrid', u'c-max-hybrid'),\n",
       "              (u'Ford_Edge', u'edge'),\n",
       "              (u'Ford_Escape', u'escape'),\n",
       "              (u'Ford_Expedition', u'expedition'),\n",
       "              (u'Ford_Explorer', u'explorer'),\n",
       "              (u'Ford_F_150', u'f-150'),\n",
       "              (u'Ford_F_250_Super_Duty', u'f-250-super-duty'),\n",
       "              (u'Ford_F_350_Super_Duty', u'f-350-super-duty'),\n",
       "              (u'Ford_F_450_Super_Duty', u'f-450-super-duty'),\n",
       "              (u'Ford_Fiesta', u'fiesta'),\n",
       "              (u'Ford_Flex', u'flex'),\n",
       "              (u'Ford_Focus', u'focus'),\n",
       "              (u'Ford_Focus_RS', u'focus-rs'),\n",
       "              (u'Ford_Focus_ST', u'focus-st'),\n",
       "              (u'Ford_Fusion', u'fusion'),\n",
       "              (u'Ford_Fusion_Energi', u'fusion-energi'),\n",
       "              (u'Ford_Fusion_Hybrid', u'fusion-hybrid'),\n",
       "              (u'Ford_Mustang', u'mustang'),\n",
       "              (u'Ford_Shelby_GT350', u'shelby-gt350'),\n",
       "              (u'Ford_Taurus', u'taurus'),\n",
       "              (u'Ford_Transit_Connect', u'transit-connect'),\n",
       "              (u'Ford_Transit_Van', u'transit-van'),\n",
       "              (u'Ford_Transit_Wagon', u'transit-wagon')],\n",
       "             u'gmc': [200007302,\n",
       "              (u'GMC_Acadia', u'acadia'),\n",
       "              (u'GMC_Canyon', u'canyon'),\n",
       "              (u'GMC_Savana', u'savana'),\n",
       "              (u'GMC_Savana_Cargo', u'savana-cargo'),\n",
       "              (u'GMC_Sierra_1500', u'sierra-1500'),\n",
       "              (u'GMC_Sierra_2500HD', u'sierra-2500hd'),\n",
       "              (u'GMC_Sierra_3500HD', u'sierra-3500hd'),\n",
       "              (u'GMC_Terrain', u'terrain'),\n",
       "              (u'GMC_Yukon', u'yukon'),\n",
       "              (u'GMC_Yukon_XL', u'yukon-xl')],\n",
       "             u'honda': [200001444,\n",
       "              (u'Honda_Accord', u'accord'),\n",
       "              (u'Honda_CR_V', u'cr-v'),\n",
       "              (u'Honda_CR_Z', u'cr-z'),\n",
       "              (u'Honda_Civic', u'civic'),\n",
       "              (u'Honda_Fit', u'fit'),\n",
       "              (u'Honda_HR_V', u'hr-v'),\n",
       "              (u'Honda_Odyssey', u'odyssey'),\n",
       "              (u'Honda_Pilot', u'pilot')],\n",
       "             u'hyundai': [200001398,\n",
       "              (u'Hyundai_Accent', u'accent'),\n",
       "              (u'Hyundai_Azera', u'azera'),\n",
       "              (u'Hyundai_Elantra', u'elantra'),\n",
       "              (u'Hyundai_Elantra_GT', u'elantra-gt'),\n",
       "              (u'Hyundai_Equus', u'equus'),\n",
       "              (u'Hyundai_Genesis', u'genesis'),\n",
       "              (u'Hyundai_Genesis_Coupe', u'genesis-coupe'),\n",
       "              (u'Hyundai_Santa_Fe', u'santa-fe'),\n",
       "              (u'Hyundai_Santa_Fe_Sport', u'santa-fe-sport'),\n",
       "              (u'Hyundai_Sonata', u'sonata'),\n",
       "              (u'Hyundai_Sonata_Hybrid', u'sonata-hybrid'),\n",
       "              (u'Hyundai_Sonata_Plug_In_Hybrid', u'sonata-plug-in-hybrid'),\n",
       "              (u'Hyundai_Tucson', u'tucson'),\n",
       "              (u'Hyundai_Veloster', u'veloster')],\n",
       "             u'infiniti': [200000089,\n",
       "              (u'Infiniti_Q50', u'q50'),\n",
       "              (u'Infiniti_Q70', u'q70'),\n",
       "              (u'Infiniti_QX50', u'qx50'),\n",
       "              (u'Infiniti_QX60', u'qx60'),\n",
       "              (u'Infiniti_QX70', u'qx70'),\n",
       "              (u'Infiniti_QX80', u'qx80')],\n",
       "             u'jaguar': [200003196,\n",
       "              (u'Jaguar_F_TYPE', u'f-type'),\n",
       "              (u'Jaguar_XF', u'xf'),\n",
       "              (u'Jaguar_XJ', u'xj')],\n",
       "             u'jeep': [200001510,\n",
       "              (u'Jeep_Cherokee', u'cherokee'),\n",
       "              (u'Jeep_Compass', u'compass'),\n",
       "              (u'Jeep_Grand_Cherokee', u'grand-cherokee'),\n",
       "              (u'Jeep_Grand_Cherokee_SRT', u'grand-cherokee-srt'),\n",
       "              (u'Jeep_Patriot', u'patriot'),\n",
       "              (u'Jeep_Renegade', u'renegade'),\n",
       "              (u'Jeep_Wrangler', u'wrangler')],\n",
       "             u'kia': [200003063,\n",
       "              (u'Kia_Cadenza', u'cadenza'),\n",
       "              (u'Kia_Forte', u'forte'),\n",
       "              (u'Kia_K900', u'k900'),\n",
       "              (u'Kia_Optima', u'optima'),\n",
       "              (u'Kia_Optima_Hybrid', u'optima-hybrid'),\n",
       "              (u'Kia_Rio', u'rio'),\n",
       "              (u'Kia_Sedona', u'sedona'),\n",
       "              (u'Kia_Sorento', u'sorento'),\n",
       "              (u'Kia_Soul', u'soul'),\n",
       "              (u'Kia_Soul_EV', u'soul-ev'),\n",
       "              (u'Kia_Sportage', u'sportage')],\n",
       "             u'lamborghini': [200005922,\n",
       "              (u'Lamborghini_Aventador', u'aventador'),\n",
       "              (u'Lamborghini_Huracan', u'huracan')],\n",
       "             u'land-rover': [200006582,\n",
       "              (u'Land_Rover_Discovery_Sport', u'discovery-sport'),\n",
       "              (u'Land_Rover_LR4', u'lr4'),\n",
       "              (u'Land_Rover_Range_Rover', u'range-rover'),\n",
       "              (u'Land_Rover_Range_Rover_Evoque', u'range-rover-evoque'),\n",
       "              (u'Land_Rover_Range_Rover_Sport', u'range-rover-sport')],\n",
       "             u'lexus': [200001623,\n",
       "              (u'Lexus_CT_200h', u'ct-200h'),\n",
       "              (u'Lexus_ES_300h', u'es-300h'),\n",
       "              (u'Lexus_ES_350', u'es-350'),\n",
       "              (u'Lexus_GS_200t', u'gs-200t'),\n",
       "              (u'Lexus_GS_350', u'gs-350'),\n",
       "              (u'Lexus_GS_450h', u'gs-450h'),\n",
       "              (u'Lexus_GS_F', u'gs-f'),\n",
       "              (u'Lexus_GX_460', u'gx-460'),\n",
       "              (u'Lexus_IS_200t', u'is-200t'),\n",
       "              (u'Lexus_IS_300', u'is-300'),\n",
       "              (u'Lexus_IS_350', u'is-350'),\n",
       "              (u'Lexus_LS_460', u'ls-460'),\n",
       "              (u'Lexus_LS_600h_L', u'ls-600h-l'),\n",
       "              (u'Lexus_LX_570', u'lx-570'),\n",
       "              (u'Lexus_NX_200t', u'nx-200t'),\n",
       "              (u'Lexus_NX_300h', u'nx-300h'),\n",
       "              (u'Lexus_RC_200t', u'rc-200t'),\n",
       "              (u'Lexus_RC_300', u'rc-300'),\n",
       "              (u'Lexus_RC_350', u'rc-350'),\n",
       "              (u'Lexus_RC_F', u'rc-f'),\n",
       "              (u'Lexus_RX_350', u'rx-350'),\n",
       "              (u'Lexus_RX_450h', u'rx-450h')],\n",
       "             u'lincoln': [200001777,\n",
       "              (u'Lincoln_MKC', u'mkc'),\n",
       "              (u'Lincoln_MKS', u'mks'),\n",
       "              (u'Lincoln_MKT', u'mkt'),\n",
       "              (u'Lincoln_MKX', u'mkx'),\n",
       "              (u'Lincoln_MKZ', u'mkz'),\n",
       "              (u'Lincoln_Navigator', u'navigator')],\n",
       "             u'maserati': [200028029,\n",
       "              (u'Maserati_Ghibli', u'ghibli'),\n",
       "              (u'Maserati_GranTurismo', u'granturismo'),\n",
       "              (u'Maserati_GranTurismo_Convertible',\n",
       "               u'granturismo-convertible'),\n",
       "              (u'Maserati_Quattroporte', u'quattroporte')],\n",
       "             u'mazda': [200004100,\n",
       "              (u'Mazda_3', u'3'),\n",
       "              (u'Mazda_6', u'6'),\n",
       "              (u'Mazda_CX_3', u'cx-3'),\n",
       "              (u'Mazda_CX_5', u'cx-5'),\n",
       "              (u'Mazda_CX_9', u'cx-9'),\n",
       "              (u'Mazda_MX_5_Miata', u'mx-5-miata')],\n",
       "             u'mercedes-benz': [200000130,\n",
       "              (u'Mercedes_Benz_AMG_GT', u'amg-gt'),\n",
       "              (u'Mercedes_Benz_B_Class_Electric_Drive',\n",
       "               u'b-class-electric-drive'),\n",
       "              (u'Mercedes_Benz_C_Class', u'c-class'),\n",
       "              (u'Mercedes_Benz_CLA_Class', u'cla-class'),\n",
       "              (u'Mercedes_Benz_CLS_Class', u'cls-class'),\n",
       "              (u'Mercedes_Benz_E_Class', u'e-class'),\n",
       "              (u'Mercedes_Benz_G_Class', u'g-class'),\n",
       "              (u'Mercedes_Benz_GL_Class', u'gl-class'),\n",
       "              (u'Mercedes_Benz_GLA_Class', u'gla-class'),\n",
       "              (u'Mercedes_Benz_GLC_Class', u'glc-class'),\n",
       "              (u'Mercedes_Benz_GLE_Class', u'gle-class'),\n",
       "              (u'Mercedes_Benz_GLE_Class_Coupe', u'gle-class-coupe'),\n",
       "              (u'Mercedes_Benz_Maybach', u'maybach'),\n",
       "              (u'Mercedes_Benz_Metris', u'metris'),\n",
       "              (u'Mercedes_Benz_S_Class', u's-class'),\n",
       "              (u'Mercedes_Benz_SL_Class', u'sl-class'),\n",
       "              (u'Mercedes_Benz_SLK_Class', u'slk-class'),\n",
       "              (u'Mercedes_Benz_Sprinter', u'sprinter'),\n",
       "              (u'Mercedes_Benz_Sprinter_Worker', u'sprinter-worker')],\n",
       "             u'mini': [200002305,\n",
       "              (u'MINI_Cooper', u'cooper'),\n",
       "              (u'MINI_Cooper_Clubman', u'cooper-clubman'),\n",
       "              (u'MINI_Cooper_Countryman', u'cooper-countryman'),\n",
       "              (u'MINI_Cooper_Paceman', u'cooper-paceman')],\n",
       "             u'mitsubishi': [200002915,\n",
       "              (u'Mitsubishi_Lancer', u'lancer'),\n",
       "              (u'Mitsubishi_Outlander', u'outlander'),\n",
       "              (u'Mitsubishi_Outlander_Sport', u'outlander-sport'),\n",
       "              (u'Mitsubishi_i_MiEV', u'i-miev')],\n",
       "             u'nissan': [200000201,\n",
       "              (u'Nissan_370Z', u'370z'),\n",
       "              (u'Nissan_Altima', u'altima'),\n",
       "              (u'Nissan_Frontier', u'frontier'),\n",
       "              (u'Nissan_GT_R', u'gt-r'),\n",
       "              (u'Nissan_Juke', u'juke'),\n",
       "              (u'Nissan_Leaf', u'leaf'),\n",
       "              (u'Nissan_Maxima', u'maxima'),\n",
       "              (u'Nissan_Murano', u'murano'),\n",
       "              (u'Nissan_NV_Cargo', u'nv-cargo'),\n",
       "              (u'Nissan_NV_Passenger', u'nv-passenger'),\n",
       "              (u'Nissan_NV200', u'nv200'),\n",
       "              (u'Nissan_Pathfinder', u'pathfinder'),\n",
       "              (u'Nissan_Quest', u'quest'),\n",
       "              (u'Nissan_Rogue', u'rogue'),\n",
       "              (u'Nissan_Sentra', u'sentra'),\n",
       "              (u'Nissan_Versa', u'versa'),\n",
       "              (u'Nissan_Versa_Note', u'versa-note')],\n",
       "             u'porsche': [200000886,\n",
       "              (u'Porsche_911', u'911'),\n",
       "              (u'Porsche_Boxster', u'boxster'),\n",
       "              (u'Porsche_Cayenne', u'cayenne'),\n",
       "              (u'Porsche_Cayman', u'cayman'),\n",
       "              (u'Porsche_Macan', u'macan'),\n",
       "              (u'Porsche_Panamera', u'panamera')],\n",
       "             u'ram': [200393150,\n",
       "              (u'Ram_1500', u'1500'),\n",
       "              (u'Ram_2500', u'2500'),\n",
       "              (u'Ram_3500', u'3500'),\n",
       "              (u'Ram_Promaster_Cargo_Van', u'promaster-cargo-van'),\n",
       "              (u'Ram_Promaster_City', u'promaster-city'),\n",
       "              (u'Ram_Promaster_Window_Van', u'promaster-window-van')],\n",
       "             u'rolls-royce': [200005044,\n",
       "              (u'Rolls_Royce_Dawn', u'dawn'),\n",
       "              (u'Rolls_Royce_Ghost_Series_II', u'ghost-series-ii'),\n",
       "              (u'Rolls_Royce_Phantom', u'phantom'),\n",
       "              (u'Rolls_Royce_Phantom_Coupe', u'phantom-coupe'),\n",
       "              (u'Rolls_Royce_Phantom_Drophead_Coupe',\n",
       "               u'phantom-drophead-coupe'),\n",
       "              (u'Rolls_Royce_Wraith', u'wraith')],\n",
       "             u'scion': [200006515,\n",
       "              (u'Scion_FR_S', u'fr-s'),\n",
       "              (u'Scion_iA', u'ia'),\n",
       "              (u'Scion_iM', u'im'),\n",
       "              (u'Scion_tC', u'tc')],\n",
       "             u'smart': [200038885, (u'smart_fortwo', u'fortwo')],\n",
       "             u'subaru': [200004491,\n",
       "              (u'Subaru_BRZ', u'brz'),\n",
       "              (u'Subaru_Crosstrek', u'crosstrek'),\n",
       "              (u'Subaru_Forester', u'forester'),\n",
       "              (u'Subaru_Impreza', u'impreza'),\n",
       "              (u'Subaru_Legacy', u'legacy'),\n",
       "              (u'Subaru_WRX', u'wrx')],\n",
       "             u'tesla': [200018920,\n",
       "              (u'Tesla_Model_S', u'model-s'),\n",
       "              (u'Tesla_Model_X', u'model-x')],\n",
       "             u'toyota': [200003381,\n",
       "              (u'Toyota_4Runner', u'4runner'),\n",
       "              (u'Toyota_Avalon', u'avalon'),\n",
       "              (u'Toyota_Avalon_Hybrid', u'avalon-hybrid'),\n",
       "              (u'Toyota_Camry_Hybrid', u'camry-hybrid'),\n",
       "              (u'Toyota_Corolla', u'corolla'),\n",
       "              (u'Toyota_Highlander', u'highlander'),\n",
       "              (u'Toyota_Highlander_Hybrid', u'highlander-hybrid'),\n",
       "              (u'Toyota_Land_Cruiser', u'land-cruiser'),\n",
       "              (u'Toyota_Mirai', u'mirai'),\n",
       "              (u'Toyota_Prius', u'prius'),\n",
       "              (u'Toyota_Prius_c', u'prius-c'),\n",
       "              (u'Toyota_Prius_v', u'prius-v'),\n",
       "              (u'Toyota_RAV4', u'rav4'),\n",
       "              (u'Toyota_RAV4_Hybrid', u'rav4-hybrid'),\n",
       "              (u'Toyota_Sequoia', u'sequoia'),\n",
       "              (u'Toyota_Sienna', u'sienna'),\n",
       "              (u'Toyota_Tacoma', u'tacoma'),\n",
       "              (u'Toyota_Tundra', u'tundra'),\n",
       "              (u'Toyota_Yaris', u'yaris')],\n",
       "             u'volkswagen': [200000238,\n",
       "              (u'Volkswagen_Beetle', u'beetle'),\n",
       "              (u'Volkswagen_Beetle_Convertible', u'beetle-convertible'),\n",
       "              (u'Volkswagen_CC', u'cc'),\n",
       "              (u'Volkswagen_Eos', u'eos'),\n",
       "              (u'Volkswagen_Golf', u'golf'),\n",
       "              (u'Volkswagen_Golf_GTI', u'golf-gti'),\n",
       "              (u'Volkswagen_Golf_R', u'golf-r'),\n",
       "              (u'Volkswagen_Golf_SportWagen', u'golf-sportwagen'),\n",
       "              (u'Volkswagen_Jetta', u'jetta'),\n",
       "              (u'Volkswagen_Passat', u'passat'),\n",
       "              (u'Volkswagen_Tiguan', u'tiguan'),\n",
       "              (u'Volkswagen_Touareg', u'touareg'),\n",
       "              (u'Volkswagen_e_Golf', u'e-golf')],\n",
       "             u'volvo': [200010382,\n",
       "              (u'Volvo_S60', u's60'),\n",
       "              (u'Volvo_S80', u's80'),\n",
       "              (u'Volvo_V60', u'v60'),\n",
       "              (u'Volvo_V60_Cross_Country', u'v60-cross-country'),\n",
       "              (u'Volvo_XC60', u'xc60'),\n",
       "              (u'Volvo_XC70', u'xc70'),\n",
       "              (u'Volvo_XC90', u'xc90')]})"
      ]
     },
     "execution_count": 9,
     "metadata": {},
     "output_type": "execute_result"
    }
   ],
   "source": [
    "all_makes"
   ]
  },
  {
   "cell_type": "code",
   "execution_count": 10,
   "metadata": {
    "collapsed": false
   },
   "outputs": [
    {
     "name": "stdout",
     "output_type": "stream",
     "text": [
      "363\n"
     ]
    }
   ],
   "source": [
    "print counter # 363 total models in 2016"
   ]
  },
  {
   "cell_type": "code",
   "execution_count": 11,
   "metadata": {
    "collapsed": false,
    "scrolled": true
   },
   "outputs": [
    {
     "name": "stdout",
     "output_type": "stream",
     "text": [
      "mini\n",
      "bentley\n",
      "tesla\n",
      "ram\n",
      "subaru\n",
      "alfa-romeo\n",
      "buick\n",
      "lexus\n",
      "audi\n",
      "maserati\n",
      "gmc\n",
      "chevrolet\n",
      "porsche\n",
      "volkswagen\n",
      "dodge\n",
      "scion\n",
      "cadillac\n",
      "honda\n",
      "hyundai\n",
      "ford\n",
      "mazda\n",
      "lamborghini\n",
      "infiniti\n",
      "aston-martin\n",
      "land-rover\n",
      "mercedes-benz\n",
      "kia\n",
      "mitsubishi\n",
      "rolls-royce\n",
      "fiat\n",
      "lincoln\n",
      "acura\n",
      "jaguar\n",
      "jeep\n",
      "nissan\n",
      "toyota\n",
      "volvo\n",
      "smart\n",
      "chrysler\n",
      "bmw\n"
     ]
    }
   ],
   "source": [
    "# printing the list of all makes to see our selection of choices for which images to pull\n",
    "for make in all_makes.keys():\n",
    "    print make"
   ]
  },
  {
   "cell_type": "code",
   "execution_count": 31,
   "metadata": {
    "collapsed": false
   },
   "outputs": [
    {
     "data": {
      "text/plain": [
       "[200001510,\n",
       " (u'Jeep_Cherokee', u'cherokee'),\n",
       " (u'Jeep_Compass', u'compass'),\n",
       " (u'Jeep_Grand_Cherokee', u'grand-cherokee'),\n",
       " (u'Jeep_Grand_Cherokee_SRT', u'grand-cherokee-srt'),\n",
       " (u'Jeep_Patriot', u'patriot'),\n",
       " (u'Jeep_Renegade', u'renegade'),\n",
       " (u'Jeep_Wrangler', u'wrangler')]"
      ]
     },
     "execution_count": 31,
     "metadata": {},
     "output_type": "execute_result"
    }
   ],
   "source": [
    "# all Jeep models for 2016\n",
    "all_makes['jeep']"
   ]
  },
  {
   "cell_type": "markdown",
   "metadata": {},
   "source": [
    "## Writing the json objects to files"
   ]
  },
  {
   "cell_type": "code",
   "execution_count": 88,
   "metadata": {
    "collapsed": true
   },
   "outputs": [],
   "source": [
    "# These are the 20 cars whose images we will try to classify.\n",
    "cars = [('toyota', 'tacoma'),\n",
    "       ('ford', 'explorer'),\n",
    "       ('bmw', '3-series'),\n",
    "       ('audi', 'a4'),\n",
    "       ('subaru', 'forester'),\n",
    "       ('ford', 'f-150'),\n",
    "        ('ram', '1500'),\n",
    "       ('alfa-romeo', '4c'),\n",
    "       ('honda', 'civic'),\n",
    "       ('honda', 'odyssey'),\n",
    "       ('toyota', 'corolla'),\n",
    "       ('chevrolet', 'tahoe'),\n",
    "       ('porsche', 'cayman'),\n",
    "       ('chevrolet', 'colorado'),\n",
    "       ('nissan', 'frontier'),\n",
    "       ('nissan', 'altima'),\n",
    "       ('mazda', '3'),\n",
    "       ('toyota', 'prius'),\n",
    "       ('chevrolet', 'volt'),\n",
    "       ('jeep', 'wrangler')]"
   ]
  },
  {
   "cell_type": "code",
   "execution_count": 113,
   "metadata": {
    "collapsed": false
   },
   "outputs": [],
   "source": [
    "assert 1 == 2 # This will stop me from accidentally running an API call (don't want to waste them!)\n",
    "\n",
    "for make,model in cars:\n",
    "    parameters = {'category': 'exterior',\n",
    "                  'view' : 'full',\n",
    "                  'fmt' : 'json',\n",
    "                  'api_key': edmunds_api_key_photos}\n",
    "    # url to call the photos of this car make and model for 2016\n",
    "    url = 'https://api.edmunds.com/api/media/v2/{0}/{1}/{2}/photos?'.format(make, model, '2016')\n",
    "    response = requests.get(url, params=parameters)\n",
    "    try:\n",
    "        assert response.status_code == 200 # make sure api call was successful\n",
    "        json_content = json.loads(response.content)\n",
    "        filename = 'FP_data/{0}_{1}'.format(make, model)\n",
    "        with open(filename, 'w') as f: # saving the json of the images to a file named after the make and model\n",
    "            json.dump(json_content, f)\n",
    "    except AssertionError:\n",
    "        # if the api call wasn't successful, it's because I used all the calls for the day\n",
    "        print 'Daily call limit reached. Start at {0} {1} tomorrow.'.format(make, model)\n",
    "    sleep(0.25)\n",
    "    # ^ ensures that I don't exceed the call limit of 5 calls per second, since I only get 25 calls daily."
   ]
  },
  {
   "cell_type": "markdown",
   "metadata": {},
   "source": [
    "Now I have a folder (FP_data) of all the json files of the photos for the makes and models I selected from 2016.\n",
    "\n",
    "Here are the 20 cars I will use for the image classification problem:"
   ]
  },
  {
   "cell_type": "code",
   "execution_count": 4,
   "metadata": {
    "collapsed": false
   },
   "outputs": [
    {
     "name": "stdout",
     "output_type": "stream",
     "text": [
      "alfa-romeo_4c\n",
      "audi_a4\n",
      "bmw_3-series\n",
      "chevrolet_colorado\n",
      "chevrolet_tahoe\n",
      "chevrolet_volt\n",
      "ford_explorer\n",
      "ford_f-150\n",
      "honda_civic\n",
      "honda_odyssey\n",
      "images\n",
      "jeep_wrangler\n",
      "mazda_3\n",
      "nissan_altima\n",
      "nissan_frontier\n",
      "porsche_cayman\n",
      "ram_1500\n",
      "subaru_forester\n",
      "toyota_corolla\n",
      "toyota_prius\n",
      "toyota_tacoma\n"
     ]
    }
   ],
   "source": [
    "# looking at the files of jsons we collected that contain the images\n",
    "for fname in os.listdir('FP_data'):\n",
    "    if not fname.startswith('.'):\n",
    "        print fname"
   ]
  },
  {
   "cell_type": "markdown",
   "metadata": {},
   "source": [
    "Now I need to navigate to the images saved in the json objects."
   ]
  },
  {
   "cell_type": "code",
   "execution_count": 11,
   "metadata": {
    "collapsed": false
   },
   "outputs": [
    {
     "name": "stdout",
     "output_type": "stream",
     "text": [
      "alfa-romeo_4c: \t 180 photos\n",
      "audi_a4: \t 180 photos\n",
      "bmw_3-series: \t 180 photos\n",
      "chevrolet_colorado: \t 180 photos\n",
      "chevrolet_tahoe: \t 180 photos\n",
      "chevrolet_volt: \t 108 photos\n",
      "ford_explorer: \t 126 photos\n",
      "ford_f-150: \t 180 photos\n",
      "honda_civic: \t 180 photos\n",
      "honda_odyssey: \t 180 photos\n",
      "jeep_wrangler: \t 180 photos\n",
      "mazda_3: \t 180 photos\n",
      "nissan_altima: \t 180 photos\n",
      "nissan_frontier: \t 180 photos\n",
      "porsche_cayman: \t 180 photos\n",
      "ram_1500: \t 180 photos\n",
      "subaru_forester: \t 180 photos\n",
      "toyota_corolla: \t 180 photos\n",
      "toyota_prius: \t 180 photos\n",
      "toyota_tacoma: \t 180 photos\n"
     ]
    }
   ],
   "source": [
    "assert 1 == 2 # ensures I don't run the following code over and over again...\n",
    "\n",
    "## This navigates the jsons and pulls all the photos and saves each image to its car's folder in the directory 'images/'\n",
    "\n",
    "photo_base_url = 'https://media.ed.edmunds-media.com'\n",
    "\n",
    "# for each file in FP_data\n",
    "for item in os.listdir('FP_data'):\n",
    "    # if it's a file with the photos json\n",
    "    if not (item.startswith('.') or item == 'images'):\n",
    "        # we'll count the number of photos collected from the file\n",
    "        counter = 0\n",
    "        \n",
    "        # each car will have a separate folder of images in the 'images/' directory\n",
    "        im_dir = 'FP_data/images/' + item\n",
    "        os.mkdir(im_dir)\n",
    "        \n",
    "        # load the data to a Python object we can navigate\n",
    "        fname = 'FP_data/' + item\n",
    "        with open(fname) as f:\n",
    "            data = json.load(f)\n",
    "        \n",
    "        # navigate to the image link\n",
    "        for photo in data['photos']:\n",
    "            for source in photo['sources']:\n",
    "                tail = source['link']['href']\n",
    "                url = photo_base_url + tail\n",
    "                # create what will be the filename for the image -- just what immediately precedes .jpg\n",
    "                im_filename = re.search(\"[^\\/]*.jpg\", url).group()\n",
    "                im_path = '{0}/{1}'.format(im_dir, im_filename)\n",
    "                \n",
    "                # save the image to a file\n",
    "                try:\n",
    "                    urllib.urlretrieve(url, im_path)\n",
    "                    counter += 1\n",
    "                except IOError:\n",
    "                    # if it didn't work, we'll try one more time before moving on...\n",
    "                    try:\n",
    "                        urllib.urlretrieve(url, im_path)\n",
    "                        counter += 1\n",
    "                    except IOError:\n",
    "                        continue\n",
    "        \n",
    "        # keep record of the number of photo files saved for each car\n",
    "        print '%s: \\t %d photos' % (item, counter)\n",
    "        \n",
    "    else:\n",
    "        continue"
   ]
  },
  {
   "cell_type": "markdown",
   "metadata": {},
   "source": [
    "## Converting each photo to a matrix with 32 x 32 pixels and 3 color channels, and accumulating those into a tensor"
   ]
  },
  {
   "cell_type": "markdown",
   "metadata": {},
   "source": [
    "[PIL Image documentation](http://pillow.readthedocs.io/en/3.1.x/reference/Image.html)"
   ]
  },
  {
   "cell_type": "code",
   "execution_count": 67,
   "metadata": {
    "collapsed": true
   },
   "outputs": [],
   "source": [
    "def data_processing_flat(image_file):\n",
    "    '''\n",
    "    Converts the image to its pixel form, with 3 color channels, and flattens it.\n",
    "    INPUT: image jpg\n",
    "    OUTPUT: flat array of pixels\n",
    "    '''\n",
    "    \n",
    "    # using Image from PIL package to open the jpg and resize to 32x32 pixels.\n",
    "    im = Image.open(image_file, 'r').resize((32,32))\n",
    "    pixels = list(im.getdata())\n",
    "    # flattens the original 32x32x3 list of lists\n",
    "    pixels_flat = [x for colors in pixels for x in colors]\n",
    "    pixels_Im = np.reshape(pixels_flat, (1,32*32*3))\n",
    "    # returns a flat array of pixels\n",
    "    return pixels_Im"
   ]
  },
  {
   "cell_type": "code",
   "execution_count": 12,
   "metadata": {
    "collapsed": false
   },
   "outputs": [
    {
     "name": "stdout",
     "output_type": "stream",
     "text": [
      "20\n"
     ]
    }
   ],
   "source": [
    "# the labels for the images (car names)\n",
    "labels = [fname for fname in os.listdir('FP_data') if not fname.startswith('.') and fname != 'images']\n",
    "print len(labels)"
   ]
  },
  {
   "cell_type": "code",
   "execution_count": 13,
   "metadata": {
    "collapsed": true
   },
   "outputs": [],
   "source": [
    "def one_hot_encode(label_idx):\n",
    "    '''\n",
    "    One-hot encodes the image labels, which are currently strings of car names.\n",
    "    INPUT: index of the label in labels list\n",
    "    OUTPUT: 1x20 list of all 0's except for the index corresponding to the car's label.\n",
    "    '''\n",
    "    # create list of all 0's\n",
    "    on_hot = [0] * 20\n",
    "    # enter 1 at index corresponding to the image label\n",
    "    on_hot[label_idx] = 1\n",
    "    return on_hot"
   ]
  },
  {
   "cell_type": "code",
   "execution_count": 69,
   "metadata": {
    "collapsed": false
   },
   "outputs": [
    {
     "name": "stdout",
     "output_type": "stream",
     "text": [
      "alfa-romeo_4c\n",
      "audi_a4\n",
      "bmw_3-series\n",
      "chevrolet_colorado\n",
      "chevrolet_tahoe\n",
      "chevrolet_volt\n",
      "ford_explorer\n",
      "ford_f-150\n",
      "honda_civic\n",
      "honda_odyssey\n",
      "jeep_wrangler\n",
      "mazda_3\n",
      "nissan_altima\n",
      "nissan_frontier\n",
      "porsche_cayman\n",
      "ram_1500\n",
      "subaru_forester\n",
      "toyota_corolla\n",
      "toyota_prius\n",
      "toyota_tacoma\n"
     ]
    }
   ],
   "source": [
    "# create empty array in which to put the images' pixels\n",
    "X = np.empty((1,32*32*3))\n",
    "# empty list in which to store the labels of the images we add to X\n",
    "y_labels = []\n",
    "\n",
    "# for each car folder of images\n",
    "for item in os.listdir('FP_data/images/'):\n",
    "    if not item.startswith('.'):\n",
    "        im_dir = 'FP_data/images/' + item\n",
    "        print item\n",
    "        # for each pic in the car folder\n",
    "        for pic in os.listdir(im_dir):\n",
    "            # store the car label of the pic\n",
    "            y_labels.append(item)\n",
    "            pic_dir = '{0}/{1}'.format(im_dir,pic)\n",
    "            # convert the image file to a flat array of pixels\n",
    "            pixels = data_processing_flat(pic_dir)\n",
    "            # append the pixels to X\n",
    "            X = np.append(X, pixels, axis=0)\n",
    "X = X[1:,:] # the first row of X is from the \"empty\" array we initially created\n",
    "\n",
    "# make sure there's a label for every image\n",
    "assert len(X) == len(y_labels)"
   ]
  },
  {
   "cell_type": "code",
   "execution_count": 70,
   "metadata": {
    "collapsed": false
   },
   "outputs": [
    {
     "data": {
      "text/plain": [
       "(3474, 3072)"
      ]
     },
     "execution_count": 70,
     "metadata": {},
     "output_type": "execute_result"
    }
   ],
   "source": [
    "X.shape # 3474 pictures each with 3072 pixel/color values"
   ]
  },
  {
   "cell_type": "code",
   "execution_count": 71,
   "metadata": {
    "collapsed": false
   },
   "outputs": [],
   "source": [
    "# one-hot encode the labels we stored for X\n",
    "y_one_hot = []\n",
    "for label in y_labels:\n",
    "    idx = labels.index(label)\n",
    "    one_hot = one_hot_encode(idx)\n",
    "    y_one_hot.append(one_hot)\n",
    "y_one_hot = np.asarray(y_one_hot)"
   ]
  },
  {
   "cell_type": "code",
   "execution_count": 72,
   "metadata": {
    "collapsed": false,
    "scrolled": true
   },
   "outputs": [
    {
     "name": "stdout",
     "output_type": "stream",
     "text": [
      "[[1 0 0 0 0 0 0 0 0 0 0 0 0 0 0 0 0 0 0 0]\n",
      " [1 0 0 0 0 0 0 0 0 0 0 0 0 0 0 0 0 0 0 0]]\n",
      "\n",
      "[[0 0 0 0 0 0 0 0 0 0 0 0 0 0 0 0 0 0 0 1]\n",
      " [0 0 0 0 0 0 0 0 0 0 0 0 0 0 0 0 0 0 0 1]]\n"
     ]
    }
   ],
   "source": [
    "print y_one_hot[:2]\n",
    "print\n",
    "print y_one_hot[-2:]"
   ]
  },
  {
   "cell_type": "code",
   "execution_count": 73,
   "metadata": {
    "collapsed": false
   },
   "outputs": [],
   "source": [
    "# need to shuffle the images to ensure that the training data is representative of the whole dataset\n",
    "shuffle_idx = np.random.permutation(len(X))\n",
    "X_shuff, y_shuff = X[shuffle_idx], y_one_hot[shuffle_idx]"
   ]
  },
  {
   "cell_type": "code",
   "execution_count": 79,
   "metadata": {
    "collapsed": true
   },
   "outputs": [],
   "source": [
    "# training on 2474 rows, testing on 1000 rows (slightly less than 30%)\n",
    "X_train, y_train, X_test, y_test = X_shuff[1000:], y_shuff[1000:], X_shuff[:1000], y_shuff[:1000]"
   ]
  },
  {
   "cell_type": "markdown",
   "metadata": {},
   "source": [
    "# The Neural Net!\n",
    "\n",
    "[Tensorflow Documentation](https://www.tensorflow.org/versions/r0.11/api_docs/python/index.html)"
   ]
  },
  {
   "cell_type": "code",
   "execution_count": 86,
   "metadata": {
    "collapsed": false
   },
   "outputs": [
    {
     "name": "stdout",
     "output_type": "stream",
     "text": [
      "0 [0.30700001]\n",
      "1 [0.57499999]\n",
      "2 [0.75300002]\n",
      "3 [0.87699997]\n",
      "4 [0.92500001]\n",
      "5 [0.94700003]\n",
      "6 [0.97899997]\n",
      "7 [0.99199998]\n",
      "8 [0.99900001]\n",
      "9 [1.0]\n"
     ]
    }
   ],
   "source": [
    "### Using a convolutional network with 3 convolution and pooling layers each and 2 fully connected layers.\n",
    "### Activation functions: relu. Loss function: cross entropy. Optimizer: Adam\n",
    "### Batch normalization on all layers, and dropout before the last fully connected layer.\n",
    "\n",
    "# CODE ADAPTED FROM MIKE BOWLES, gU professor\n",
    "\n",
    "import tensorflow as tf\n",
    "\n",
    "def weight_variable(shape, name):\n",
    "    initial = tf.truncated_normal(shape, stddev=0.1)\n",
    "    return tf.Variable(initial, name)\n",
    "\n",
    "def bias_variable(shape, name):\n",
    "    initial = tf.constant(0.1, shape=shape)\n",
    "    return tf.Variable(initial, name)\n",
    "\n",
    "def conv2d(x, W):\n",
    "    return tf.nn.conv2d(x, W, strides=[1, 1, 1, 1], padding='SAME')\n",
    "\n",
    "def max_pool_2x2(x):\n",
    "    return tf.nn.max_pool(x, ksize=[1, 2, 2, 1],\n",
    "                        strides=[1, 2, 2, 1], padding='SAME')\n",
    "\n",
    "tf.reset_default_graph() \n",
    "graph = tf.Graph() \n",
    "with graph.as_default():\n",
    "\n",
    "    #inputs\n",
    "    x = tf.placeholder(tf.float32, shape=[None, 32*32*3]) # [batch size, total pixels]\n",
    "    y_ = tf.placeholder(tf.float32, shape=[None, 20]) # [batch size, labels]\n",
    "\n",
    "    #reshape to image format for conv functions\n",
    "    x_image = tf.reshape(x, [-1,32,32,3]) \n",
    "    # 1st number: number of pictures (minibatch size)\n",
    "    # 2nd number: number of pixels tall\n",
    "    # 3rd number: number of pixels wide\n",
    "    # 4th number: number of channels--in the first convolutional layer, it means number of colors\n",
    "\n",
    "    #weight and bias for 1st conv\n",
    "    W_conv1 = weight_variable([5, 5, 3, 32], 'W_conv1')\n",
    "    b_conv1 = bias_variable([32], 'b_conv1')\n",
    "\n",
    "    #conv and max-pool - layers 1 and 2\n",
    "    h_conv1 = tf.nn.relu(conv2d(x_image, W_conv1) + b_conv1) ## output = -1,32,32,32\n",
    "    h_pool1 = max_pool_2x2(h_conv1) ## output = -1,16,16,32\n",
    "    h_bnorm1 = tf.contrib.layers.batch_norm(h_pool1)\n",
    "\n",
    "\n",
    "    #weight and bias for 2nd convolution\n",
    "    W_conv2 = weight_variable([5, 5, 32, 64], 'W_conv2')\n",
    "    b_conv2 = bias_variable([64], 'b_conv2')\n",
    "\n",
    "    #ops for layers 3 and 4\n",
    "    h_conv2 = tf.nn.relu(conv2d(h_pool1, W_conv2) + b_conv2) ## output = -1,16,16,64\n",
    "    h_pool2 = max_pool_2x2(h_conv2) ## output = -1,8,8,64\n",
    "    h_bnorm2 = tf.contrib.layers.batch_norm(h_pool2)\n",
    "    \n",
    "    #weight and bias for 3rd convolution\n",
    "    W_conv3 = weight_variable([5, 5, 64, 128], 'W_conv3')\n",
    "    b_conv3 = bias_variable([128], 'b_conv3')\n",
    "    \n",
    "    #ops for layers 5 and 6\n",
    "    h_conv3 = tf.nn.relu(conv2d(h_pool2, W_conv3) + b_conv3) ## output = [-1,8,8,128]\n",
    "    h_pool3 = max_pool_2x2(h_conv3) ## output = -1,4,4,128\n",
    "    h_bnorm3 = tf.contrib.layers.batch_norm(h_pool3)\n",
    "\n",
    "    #reshape for FC layers\n",
    "    W_fc1 = weight_variable([4 * 4 * 128, 1024], 'W_fc1')\n",
    "    b_fc1 = bias_variable([1024], 'b_fc1')\n",
    "\n",
    "    #layer 7\n",
    "    h_pool3_flat = tf.reshape(h_pool3, [-1, 4*4*128]) #flattening [-1,4,4,128] to [-1, 2048]\n",
    "    h_fc1 = tf.nn.relu(tf.matmul(h_pool3_flat, W_fc1) + b_fc1)\n",
    "    h_fc1_bnorm = tf.contrib.layers.batch_norm(h_fc1)\n",
    "\n",
    "    keep_prob = tf.placeholder(tf.float32)\n",
    "    h_fc1_drop = tf.nn.dropout(h_fc1, keep_prob)\n",
    "    # dropout in the later layers to reduce overfitting\n",
    "\n",
    "    W_fc2 = weight_variable([1024, 20], 'W_fc2')\n",
    "    b_fc2 = bias_variable([20], 'b_fc2')\n",
    "    \n",
    "    h_fc2 = tf.matmul(h_fc1_drop, W_fc2) + b_fc2\n",
    "    h_fc2_bnorm = tf.contrib.layers.batch_norm(h_fc2)\n",
    "\n",
    "    y_conv=tf.nn.softmax(h_fc2_bnorm)\n",
    "    # probability prediction time. For each of the 20 classes, it will give a probability.\n",
    "\n",
    "    cross_entropy = tf.reduce_mean(-tf.reduce_sum(y_ * tf.log(y_conv), reduction_indices=[1]))\n",
    "    # this is your loss function\n",
    "    train_step = tf.train.AdamOptimizer(5e-5).minimize(cross_entropy)\n",
    "    # computer understands to modify all the tf.Variables to lower this loss\n",
    "    correct_prediction = tf.equal(tf.argmax(y_conv,1), tf.argmax(y_,1))\n",
    "    accuracy = tf.reduce_mean(tf.cast(correct_prediction, tf.float32))\n",
    "    # nice printout for humans to read\n",
    "\n",
    "    #histograms\n",
    "    tVar = [W_conv1, b_conv1, W_conv2, b_conv2, W_fc1, b_fc1, W_fc2, b_fc2]\n",
    "    tVarNames = ['W_conv1', 'b_conv1', 'W_conv2', 'b_conv2', 'W_fc1', 'b_fc1', 'W_fc2', 'b_fc2']\n",
    "    #merged = tf.merge_summary([tf.histogram_summary(tv.name, tv) for (tvName, tv) in zip(tVarNames, tVar)])\n",
    "\n",
    "\n",
    "#xTrain, xTest, yTrain, yTest = mnist()\n",
    "with tf.Session(graph=graph) as sess:\n",
    "    result = sess.run(tf.initialize_all_variables())\n",
    "    writer = tf.train.SummaryWriter('logs/',graph=sess.graph)\n",
    "    miniBatchSize = 40\n",
    "    startEnd = zip(range(0, len(X_train), miniBatchSize), range(miniBatchSize, len(X_train) + 1, miniBatchSize))\n",
    "    costList = []\n",
    "    nPasses = 10\n",
    "    iteration = 0\n",
    "    for iPass in range(nPasses):\n",
    "        for (s, e) in startEnd:\n",
    "            #[cost, tbSummary] = sess.run([train_step, merged], feed_dict={x: xTrain[s:e,], y_: yTrain[s:e], keep_prob:1.0})\n",
    "            cost = sess.run(train_step, feed_dict={x: X_train[s:e,], y_: y_train[s:e], keep_prob:0.5})\n",
    "            #writer.add_summary(tbSummary, iteration)\n",
    "            iteration += 1\n",
    "            costList.append(cost)\n",
    "        testResult = sess.run([accuracy], feed_dict={x: X_test, y_: y_test, keep_prob: 1.0})\n",
    "        # need a lot of memory here\n",
    "        print iPass, testResult"
   ]
  },
  {
   "cell_type": "markdown",
   "metadata": {},
   "source": [
    "__The model was extremely successful.__ It reached full accuracy in 10 passes through the data. __This seems suspicious!__ \n",
    "\n",
    "Let's see how it fares when we include all photos from 2015 as well...\n",
    "\n",
    "__Will the neural net perform just as well attempting to differentiate between the same car for 2015 and 2016?__"
   ]
  },
  {
   "cell_type": "markdown",
   "metadata": {},
   "source": [
    "## Gathering images from 2015 to add to the model"
   ]
  },
  {
   "cell_type": "code",
   "execution_count": 91,
   "metadata": {
    "collapsed": false
   },
   "outputs": [],
   "source": [
    "for make,model in cars:\n",
    "    parameters = {'category': 'exterior',\n",
    "                  'view' : 'full',\n",
    "                  'fmt' : 'json',\n",
    "                  'api_key': edmunds_api_key_photos}\n",
    "    url = 'https://api.edmunds.com/api/media/v2/{0}/{1}/{2}/photos?'.format(make, model, '2015')\n",
    "    response = requests.get(url, params=parameters)\n",
    "    try:\n",
    "        assert response.status_code == 200\n",
    "        json_content = json.loads(response.content)\n",
    "        filename = 'FP_data/{0}_{1}_2015'.format(make, model)\n",
    "        with open(filename, 'w') as f:\n",
    "            json.dump(json_content, f)\n",
    "    except AssertionError:\n",
    "        print 'Daily call limit reached. Start at {0} {1} tomorrow.'.format(make, model)\n",
    "    sleep(0.25)\n",
    "    # ^ ensures that I don't exceed the call limit of 5 calls per second, since I only get 25 calls daily."
   ]
  },
  {
   "cell_type": "code",
   "execution_count": 92,
   "metadata": {
    "collapsed": false
   },
   "outputs": [
    {
     "name": "stdout",
     "output_type": "stream",
     "text": [
      "alfa-romeo_4c_2015: \t 180 photos\n",
      "audi_a4_2015: \t 180 photos\n",
      "bmw_3-series_2015: \t 180 photos\n",
      "chevrolet_colorado_2015: \t 144 photos\n",
      "chevrolet_tahoe_2015: \t 54 photos\n",
      "chevrolet_volt_2015: \t 126 photos\n",
      "ford_explorer_2015: \t 180 photos\n",
      "ford_f-150_2015: \t 180 photos\n",
      "honda_civic_2015: \t 180 photos\n",
      "honda_odyssey_2015: \t 144 photos\n",
      "jeep_wrangler_2015: \t 180 photos\n",
      "mazda_3_2015: \t 180 photos\n",
      "nissan_altima_2015: \t 180 photos\n",
      "nissan_frontier_2015: \t 180 photos\n",
      "porsche_cayman_2015: \t 180 photos\n",
      "ram_1500_2015: \t 180 photos\n",
      "subaru_forester_2015: \t 180 photos\n",
      "toyota_corolla_2015: \t 180 photos\n",
      "toyota_prius_2015: \t 180 photos\n",
      "toyota_tacoma_2015: \t 180 photos\n"
     ]
    }
   ],
   "source": [
    "photo_base_url = 'https://media.ed.edmunds-media.com'\n",
    "for item in os.listdir('FP_data'):\n",
    "    if item.endswith('2015') and not (item.startswith('.') or item == 'images'):\n",
    "        counter = 0\n",
    "        im_dir = 'FP_data/images/' + item\n",
    "        os.mkdir(im_dir)\n",
    "        fname = 'FP_data/' + item\n",
    "        with open(fname) as f:\n",
    "            data = json.load(f)\n",
    "        for photo in data['photos']:\n",
    "            for source in photo['sources']:\n",
    "                tail = source['link']['href']\n",
    "                url = photo_base_url + tail\n",
    "                im_filename = re.search(\"[^\\/]*.jpg\", url).group()\n",
    "                im_path = '{0}/{1}'.format(im_dir, im_filename)\n",
    "                try:\n",
    "                    urllib.urlretrieve(url, im_path)\n",
    "                    counter += 1\n",
    "                except IOError:\n",
    "                    try:\n",
    "                        urllib.urlretrieve(url, im_path)\n",
    "                        counter += 1\n",
    "                    except IOError:\n",
    "                        continue\n",
    "        print '%s: \\t %d photos' % (item, counter)\n",
    "    else:\n",
    "        continue"
   ]
  },
  {
   "cell_type": "markdown",
   "metadata": {},
   "source": [
    "Adding the new images from 2015 to the existing X matrix with the car images from 2016:"
   ]
  },
  {
   "cell_type": "code",
   "execution_count": 94,
   "metadata": {
    "collapsed": false
   },
   "outputs": [
    {
     "name": "stdout",
     "output_type": "stream",
     "text": [
      "20\n",
      "alfa-romeo_4c_2015\n",
      "audi_a4_2015\n",
      "bmw_3-series_2015\n",
      "chevrolet_colorado_2015\n",
      "chevrolet_tahoe_2015\n",
      "chevrolet_volt_2015\n",
      "ford_explorer_2015\n",
      "ford_f-150_2015\n",
      "honda_civic_2015\n",
      "honda_odyssey_2015\n",
      "jeep_wrangler_2015\n",
      "mazda_3_2015\n",
      "nissan_altima_2015\n",
      "nissan_frontier_2015\n",
      "porsche_cayman_2015\n",
      "ram_1500_2015\n",
      "subaru_forester_2015\n",
      "toyota_corolla_2015\n",
      "toyota_prius_2015\n",
      "toyota_tacoma_2015\n"
     ]
    }
   ],
   "source": [
    "labels_new = [fname for fname in os.listdir('FP_data') if fname.endswith('2015')]\n",
    "print len(labels_new)\n",
    "\n",
    "X_new = X\n",
    "y_labels_new = y_labels\n",
    "# adding the new images to X and the corresponding labels to y (now X_new and y_new)\n",
    "for item in os.listdir('FP_data/images/'):\n",
    "    if item.endswith('2015'):\n",
    "        im_dir = 'FP_data/images/' + item\n",
    "        print item\n",
    "        for pic in os.listdir(im_dir):\n",
    "            y_labels_new = np.append(y_labels_new,item)\n",
    "            pic_dir = '{0}/{1}'.format(im_dir,pic)\n",
    "            pixels = data_processing_flat(pic_dir)\n",
    "            X_new = np.append(X_new, pixels, axis=0)\n",
    "assert len(X_new) == len(y_labels_new)"
   ]
  },
  {
   "cell_type": "code",
   "execution_count": 95,
   "metadata": {
    "collapsed": true
   },
   "outputs": [],
   "source": [
    "# must define new one-hot encode function to one-hot encode for 40 labels\n",
    "# I could've modified the original function to include an argument for num_labels, but this will do for now...\n",
    "def one_hot_encode2(label_idx):\n",
    "    on_hot = [0] * 40\n",
    "    on_hot[label_idx] = 1\n",
    "    return on_hot"
   ]
  },
  {
   "cell_type": "code",
   "execution_count": 96,
   "metadata": {
    "collapsed": true
   },
   "outputs": [],
   "source": [
    "# add the new labels corresponding to the image data added to X\n",
    "labels2 = labels + labels_new\n",
    "y_one_hot_new = []\n",
    "# one-hot encode based on all 40 labels\n",
    "for label in y_labels_new:\n",
    "    idx = labels2.index(label)\n",
    "    one_hot = one_hot_encode2(idx)\n",
    "    y_one_hot_new.append(one_hot)\n",
    "y_one_hot_new = np.asarray(y_one_hot_new)"
   ]
  },
  {
   "cell_type": "code",
   "execution_count": 102,
   "metadata": {
    "collapsed": false
   },
   "outputs": [
    {
     "name": "stdout",
     "output_type": "stream",
     "text": [
      "[[1 0 0 0 0 0 0 0 0 0 0 0 0 0 0 0 0 0 0 0 0 0 0 0 0 0 0 0 0 0 0 0 0 0 0 0 0\n",
      "  0 0 0]]\n",
      "\n",
      "[[0 0 0 0 0 0 0 0 0 0 0 0 0 0 0 0 0 0 0 0 0 0 0 0 0 0 0 0 0 0 0 0 0 0 0 0 0\n",
      "  0 0 1]]\n"
     ]
    }
   ],
   "source": [
    "print y_one_hot_new[:1]\n",
    "print\n",
    "print y_one_hot_new[-1:]"
   ]
  },
  {
   "cell_type": "code",
   "execution_count": 98,
   "metadata": {
    "collapsed": false
   },
   "outputs": [
    {
     "data": {
      "text/plain": [
       "(6822, 40)"
      ]
     },
     "execution_count": 98,
     "metadata": {},
     "output_type": "execute_result"
    }
   ],
   "source": [
    "y_one_hot_new.shape # 6822 pics, 40 labels"
   ]
  },
  {
   "cell_type": "code",
   "execution_count": 99,
   "metadata": {
    "collapsed": false
   },
   "outputs": [
    {
     "data": {
      "text/plain": [
       "(6822, 3072)"
      ]
     },
     "execution_count": 99,
     "metadata": {},
     "output_type": "execute_result"
    }
   ],
   "source": [
    "X_new.shape # 6822 pics, 3072 pixel/color columns"
   ]
  },
  {
   "cell_type": "code",
   "execution_count": 103,
   "metadata": {
    "collapsed": false
   },
   "outputs": [
    {
     "data": {
      "text/plain": [
       "2046.6"
      ]
     },
     "execution_count": 103,
     "metadata": {},
     "output_type": "execute_result"
    }
   ],
   "source": [
    "6822*.3 # seeing how much about 30% of the dataset is, for train/test split"
   ]
  },
  {
   "cell_type": "code",
   "execution_count": 104,
   "metadata": {
    "collapsed": true
   },
   "outputs": [],
   "source": [
    "# need to shuffle the images to ensure that the training data is representative of the whole dataset\n",
    "shuffle_idx_new = np.random.permutation(len(X_new))\n",
    "X_shuff_new, y_shuff_new = X_new[shuffle_idx], y_one_hot_new[shuffle_idx]\n",
    "\n",
    "# training on 4822 rows, testing on 2000 rows (slightly less than 30%)\n",
    "X_train2, y_train2, X_test2, y_test2 = X_shuff_new[2000:], y_shuff_new[2000:], X_shuff_new[:2000], y_shuff_new[:2000]"
   ]
  },
  {
   "cell_type": "markdown",
   "metadata": {},
   "source": [
    "## Neural Net to classify images of 2015 and 2016 cars"
   ]
  },
  {
   "cell_type": "code",
   "execution_count": 112,
   "metadata": {
    "collapsed": false
   },
   "outputs": [
    {
     "name": "stdout",
     "output_type": "stream",
     "text": [
      "0 [0.58999997]\n",
      "1 [0.8355]\n",
      "2 [0.94499999]\n",
      "3 [0.98250002]\n",
      "4 [0.99150002]\n",
      "5 [0.99199998]\n",
      "6 [0.99199998]\n",
      "7 [0.99199998]\n",
      "8 [0.99199998]\n",
      "9 [0.99199998]\n",
      "10 [0.99199998]\n",
      "11 [0.99299997]\n",
      "12 [0.995]\n",
      "13 [0.99650002]\n",
      "14 [0.99550003]\n",
      "15 [0.99599999]\n",
      "16 [0.99949998]\n",
      "17 [0.99900001]\n",
      "18 [0.99949998]\n",
      "19 [0.99949998]\n"
     ]
    }
   ],
   "source": [
    "### Using a convolutional network with 3 convolution and pooling layers each and 2 fully connected layers.\n",
    "### Activation functions: relu. Loss function: cross entropy. Optimizer: Adam\n",
    "### Batch normalization on all layers, and dropout before the last fully connected layer.\n",
    "\n",
    "# CODE ADAPTED FROM MIKE BOWLES, gU professor\n",
    "\n",
    "import tensorflow as tf\n",
    "\n",
    "tf.reset_default_graph() \n",
    "graph = tf.Graph() \n",
    "with graph.as_default():\n",
    "\n",
    "    #inputs\n",
    "    x = tf.placeholder(tf.float32, shape=[None, 32*32*3]) # [batch size, total pixels]\n",
    "    y_ = tf.placeholder(tf.float32, shape=[None, 40]) # [batch size, labels]\n",
    "\n",
    "    #reshape to image format for conv functions\n",
    "    x_image = tf.reshape(x, [-1,32,32,3]) \n",
    "    # 1st number: number of pictures (minibatch size)\n",
    "    # 2nd number: number of pixels tall\n",
    "    # 3rd number: number of pixels wide\n",
    "    # 4th number: number of channels--in the first convolutional layer, it means number of colors\n",
    "\n",
    "    #weight and bias for 1st conv\n",
    "    W_conv1 = weight_variable([5, 5, 3, 32], 'W_conv1')\n",
    "    b_conv1 = bias_variable([32], 'b_conv1')\n",
    "\n",
    "    #conv and max-pool - layers 1 and 2\n",
    "    h_conv1 = tf.nn.relu(conv2d(x_image, W_conv1) + b_conv1) ## output = -1,32,32,32\n",
    "    h_pool1 = max_pool_2x2(h_conv1) ## output = -1,16,16,32\n",
    "    h_bnorm1 = tf.contrib.layers.batch_norm(h_pool1)\n",
    "\n",
    "\n",
    "    #weight and bias for 2nd convolution\n",
    "    W_conv2 = weight_variable([5, 5, 32, 64], 'W_conv2')\n",
    "    b_conv2 = bias_variable([64], 'b_conv2')\n",
    "\n",
    "    #ops for layers 3 and 4\n",
    "    h_conv2 = tf.nn.relu(conv2d(h_pool1, W_conv2) + b_conv2) ## output = -1,16,16,64\n",
    "    h_pool2 = max_pool_2x2(h_conv2) ## output = -1,8,8,64\n",
    "    h_bnorm2 = tf.contrib.layers.batch_norm(h_pool2)\n",
    "    \n",
    "    #weight and bias for 3rd convolution\n",
    "    W_conv3 = weight_variable([5, 5, 64, 128], 'W_conv3')\n",
    "    b_conv3 = bias_variable([128], 'b_conv3')\n",
    "    \n",
    "    #ops for layers 5 and 6\n",
    "    h_conv3 = tf.nn.relu(conv2d(h_pool2, W_conv3) + b_conv3) ## output = [-1,8,8,128]\n",
    "    h_pool3 = max_pool_2x2(h_conv3) ## output = -1,4,4,128\n",
    "    h_bnorm3 = tf.contrib.layers.batch_norm(h_pool3)\n",
    "\n",
    "    #reshape for FC layers\n",
    "    W_fc1 = weight_variable([4 * 4 * 128, 1024], 'W_fc1')\n",
    "    b_fc1 = bias_variable([1024], 'b_fc1')\n",
    "\n",
    "    #layer 7\n",
    "    h_pool3_flat = tf.reshape(h_pool3, [-1, 4*4*128]) #flattening [-1,4,4,128] to [-1, 2048]\n",
    "    h_fc1 = tf.nn.relu(tf.matmul(h_pool3_flat, W_fc1) + b_fc1)\n",
    "    h_fc1_bnorm = tf.contrib.layers.batch_norm(h_fc1)\n",
    "\n",
    "    keep_prob = tf.placeholder(tf.float32)\n",
    "    h_fc1_drop = tf.nn.dropout(h_fc1, keep_prob)\n",
    "    # dropout in the later layers to reduce overfitting\n",
    "\n",
    "    W_fc2 = weight_variable([1024, 40], 'W_fc2')\n",
    "    b_fc2 = bias_variable([40], 'b_fc2')\n",
    "    \n",
    "    h_fc2 = tf.matmul(h_fc1_drop, W_fc2) + b_fc2\n",
    "    h_fc2_bnorm = tf.contrib.layers.batch_norm(h_fc2)\n",
    "\n",
    "    y_conv=tf.nn.softmax(h_fc2_bnorm)\n",
    "    # probability prediction time. For each of the 40 classes, it will give a probability.\n",
    "\n",
    "    cross_entropy = tf.reduce_mean(-tf.reduce_sum(y_ * tf.log(y_conv), reduction_indices=[1]))\n",
    "    # this is your loss function\n",
    "    train_step = tf.train.AdamOptimizer(epsilon=5e-5, learning_rate=0.0001).minimize(cross_entropy)\n",
    "    # computer understands to modify all the tf.Variables to lower this loss\n",
    "    correct_prediction = tf.equal(tf.argmax(y_conv,1), tf.argmax(y_,1))\n",
    "    accuracy = tf.reduce_mean(tf.cast(correct_prediction, tf.float32))\n",
    "    # nice printout for humans to read\n",
    "\n",
    "    #histograms\n",
    "    tVar = [W_conv1, b_conv1, W_conv2, b_conv2, W_fc1, b_fc1, W_fc2, b_fc2]\n",
    "    tVarNames = ['W_conv1', 'b_conv1', 'W_conv2', 'b_conv2', 'W_fc1', 'b_fc1', 'W_fc2', 'b_fc2']\n",
    "    #merged = tf.merge_summary([tf.histogram_summary(tv.name, tv) for (tvName, tv) in zip(tVarNames, tVar)])\n",
    "\n",
    "\n",
    "#xTrain, xTest, yTrain, yTest = mnist()\n",
    "with tf.Session(graph=graph) as sess:\n",
    "    result = sess.run(tf.initialize_all_variables())\n",
    "    #writer = tf.train.SummaryWriter('logs/',graph=sess.graph)\n",
    "    miniBatchSize = 40\n",
    "    startEnd = zip(range(0, len(X_train2), miniBatchSize), range(miniBatchSize, len(X_train2) + 1, miniBatchSize))\n",
    "    costList = []\n",
    "    nPasses = 20\n",
    "    iteration = 0\n",
    "    for iPass in range(nPasses):\n",
    "        for (s, e) in startEnd:\n",
    "            #[cost, tbSummary] = sess.run([train_step, merged], feed_dict={x: X_train2[s:e,], y_: y_train2[s:e], keep_prob:1.0})\n",
    "            cost = sess.run(train_step, feed_dict={x: X_train2[s:e,], y_: y_train2[s:e], keep_prob:0.5})\n",
    "            #writer.add_summary(tbSummary, iteration)\n",
    "            iteration += 1\n",
    "            costList.append(cost)\n",
    "        testResult = sess.run([accuracy], feed_dict={x: X_test2, y_: y_test2, keep_prob: 1.0})\n",
    "        # need a lot of memory here\n",
    "        print iPass, testResult"
   ]
  },
  {
   "cell_type": "markdown",
   "metadata": {
    "collapsed": true
   },
   "source": [
    "^ I only let it run through 20 passes of the data, but it reached an accuracy of over 0.999. For 40 cars, some of which are extremely similar since there are the 2015 and 2016 models included, this seems fishy...\n",
    "\n",
    "After looking more closely at the images, I noticed that for each photo, there are multiple resolutions of the same image returned from the API call. For example, there can be duplicate photos, one with width 1600 and the other with width 98. Therefore, when passing a given photo to the test set, the neural net likely trained on at least one other version of the same photo, albeit in a different original resolution, making it relatively easy to come to the correct label for that photo. \n",
    "\n",
    "The solution: image augmentation. I'll manipulate some versions of each photo in order to add some noise into the dataset, to attempt to make the image classification task more difficult for the neural net. __See the notebook on image augmentation.__"
   ]
  }
 ],
 "metadata": {
  "kernelspec": {
   "display_name": "Python 2",
   "language": "python",
   "name": "python2"
  },
  "language_info": {
   "codemirror_mode": {
    "name": "ipython",
    "version": 2
   },
   "file_extension": ".py",
   "mimetype": "text/x-python",
   "name": "python",
   "nbconvert_exporter": "python",
   "pygments_lexer": "ipython2",
   "version": "2.7.12"
  }
 },
 "nbformat": 4,
 "nbformat_minor": 1
}
